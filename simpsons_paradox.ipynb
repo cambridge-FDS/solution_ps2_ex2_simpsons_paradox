{
 "cells": [
  {
   "cell_type": "markdown",
   "metadata": {},
   "source": [
    "# Smoking is bad"
   ]
  },
  {
   "cell_type": "code",
   "execution_count": null,
   "metadata": {},
   "outputs": [],
   "source": [
    "import polars as pl\n",
    "import seaborn as sns\n",
    "import matplotlib.pyplot as plt\n",
    "import numpy as np"
   ]
  },
  {
   "cell_type": "code",
   "execution_count": null,
   "metadata": {},
   "outputs": [],
   "source": [
    "df = pl.read_csv(\"data/smoking_data.csv\")\n",
    "df.head()"
   ]
  },
  {
   "cell_type": "code",
   "execution_count": null,
   "metadata": {},
   "outputs": [],
   "source": [
    "df.shape"
   ]
  },
  {
   "cell_type": "code",
   "execution_count": null,
   "metadata": {},
   "outputs": [],
   "source": [
    "df.describe()  # we do not really get that much of an insight for our string columns"
   ]
  },
  {
   "cell_type": "code",
   "execution_count": null,
   "metadata": {},
   "outputs": [],
   "source": [
    "df.null_count()  # salary column has a lot of missings; maybe we should drop it"
   ]
  },
  {
   "cell_type": "code",
   "execution_count": null,
   "metadata": {},
   "outputs": [],
   "source": [
    "# clean data frame and make easier to work with\n",
    "df_clean = (df.with_columns(\n",
    "    pl.when(pl.col(\"gender\") == \"female\").then(0).otherwise(1).alias(\"gender_num\"),\n",
    "    pl.when(pl.col(\"smoker\") == \"No\").then(0).otherwise(1).alias(\"smoker_num\"),\n",
    "    pl.when(pl.col(\"outcome\") == \"Dead\").then(0).otherwise(1).alias(\"outcome_num\"),\n",
    "))\n",
    "\n",
    "df_clean.head()"
   ]
  },
  {
   "cell_type": "code",
   "execution_count": null,
   "metadata": {},
   "outputs": [],
   "source": [
    "df_clean.select([\"outcome_num\", \"age\", \"gender_num\", \"smoker_num\"]).describe()"
   ]
  },
  {
   "cell_type": "markdown",
   "metadata": {},
   "source": [
    "## Smoking analysis\n",
    "Let's first check what the cousin did."
   ]
  },
  {
   "cell_type": "code",
   "execution_count": null,
   "metadata": {},
   "outputs": [],
   "source": [
    "df_clean.group_by(\"smoker_num\").agg(prob_alive=pl.col(\"outcome_num\").mean())"
   ]
  },
  {
   "cell_type": "markdown",
   "metadata": {},
   "source": [
    "Okay, so we get the same results."
   ]
  },
  {
   "cell_type": "code",
   "execution_count": null,
   "metadata": {},
   "outputs": [],
   "source": [
    "df_clean.group_by([\"smoker_num\", \"gender_num\"]).agg(prob_alive=pl.col(\"outcome_num\").mean()).sort(\"gender_num\")"
   ]
  },
  {
   "cell_type": "markdown",
   "metadata": {},
   "source": [
    "Seems like the same still holds; The probability to be alive given smoking is higher for both, male and female."
   ]
  },
  {
   "cell_type": "markdown",
   "metadata": {},
   "source": [
    "Of course, we assume that more young ppl. smoke than old ppl. and that young ppl. are more likely to be alive.\n",
    "So maybe we should look at the age distribution of the smokers."
   ]
  },
  {
   "cell_type": "code",
   "execution_count": null,
   "metadata": {},
   "outputs": [],
   "source": [
    "sns.histplot(df_clean, x=\"age\")"
   ]
  },
  {
   "cell_type": "code",
   "execution_count": null,
   "metadata": {},
   "outputs": [],
   "source": [
    "# let's create age intervals\n",
    "df_clean = df_clean.with_columns(\n",
    "    pl.when(pl.col(\"age\") < 30).then(30)\n",
    "    .when(pl.col(\"age\") < 40).then(40)\n",
    "    .when(pl.col(\"age\") < 50).then(50)\n",
    "    .when(pl.col(\"age\") < 60).then(60)\n",
    "    .when(pl.col(\"age\") < 70).then(70).otherwise(100).alias(\"age_interval\")\n",
    ")\n",
    "df_clean.head()"
   ]
  },
  {
   "cell_type": "code",
   "execution_count": null,
   "metadata": {},
   "outputs": [],
   "source": [
    "df_grouped = df_clean.group_by(\"age_interval\").agg(\n",
    "    prob_alive=pl.col(\"outcome_num\").mean(),\n",
    "    prob_smoker=pl.col(\"smoker_num\").mean(),\n",
    "    group_count=pl.len(),\n",
    "    ).sort(\"age_interval\")"
   ]
  },
  {
   "cell_type": "code",
   "execution_count": null,
   "metadata": {},
   "outputs": [],
   "source": [
    "sns.lineplot(data=df_grouped, x=\"age_interval\", y=\"prob_alive\")\n",
    "sns.lineplot(data=df_grouped, x=\"age_interval\", y=\"prob_smoker\")\n",
    "# Customize the plot\n",
    "plt.title('Probability of Survival and Smoking by Age Interval')\n",
    "plt.xlabel('Age Interval')\n",
    "plt.ylabel('Probability')\n",
    "plt.xticks(rotation=45)  # Rotate x-labels if needed\n",
    "plt.legend(loc)\n",
    "\n",
    "# Show the plot\n",
    "#plt.tight_layout()\n",
    "plt.show()"
   ]
  },
  {
   "cell_type": "markdown",
   "metadata": {},
   "source": [
    "So we see that age effects staying alive and smoking."
   ]
  },
  {
   "cell_type": "code",
   "execution_count": null,
   "metadata": {},
   "outputs": [],
   "source": [
    "df_by_age = df_clean.group_by([\"age_interval\", \"smoker_num\"]).agg(prob_alive=pl.col(\"outcome_num\").mean())\n",
    "df_by_age"
   ]
  },
  {
   "cell_type": "code",
   "execution_count": null,
   "metadata": {},
   "outputs": [],
   "source": [
    "sns.lineplot(data=df_by_age, x=\"age_interval\", y=\"prob_alive\", hue=\"smoker_num\")"
   ]
  },
  {
   "cell_type": "markdown",
   "metadata": {},
   "source": [
    "So it seems that when you are young, your probability to be alive is higher when you do not smoke, and there is a point when this turns around."
   ]
  },
  {
   "cell_type": "code",
   "execution_count": null,
   "metadata": {},
   "outputs": [],
   "source": [
    "# let's make more age brackets\n",
    "df_clean = df_clean.with_columns(age_int_2=pl.col(\"age\").map_elements(lambda s: np.round(s/10) * 10))"
   ]
  },
  {
   "cell_type": "code",
   "execution_count": null,
   "metadata": {},
   "outputs": [],
   "source": [
    "df_by_age = df_clean.group_by([\"age_int_2\", \"smoker_num\"]).agg(prob_alive=pl.col(\"outcome_num\").mean())\n",
    "sns.lineplot(data=df_by_age, x=\"age_int_2\", y=\"prob_alive\", hue=\"smoker_num\")"
   ]
  },
  {
   "cell_type": "code",
   "execution_count": null,
   "metadata": {},
   "outputs": [],
   "source": []
  }
 ],
 "metadata": {
  "kernelspec": {
   "display_name": "smoke",
   "language": "python",
   "name": "python3"
  },
  "language_info": {
   "codemirror_mode": {
    "name": "ipython",
    "version": 3
   },
   "file_extension": ".py",
   "mimetype": "text/x-python",
   "name": "python",
   "nbconvert_exporter": "python",
   "pygments_lexer": "ipython3",
   "version": "3.12.7"
  }
 },
 "nbformat": 4,
 "nbformat_minor": 2
}
